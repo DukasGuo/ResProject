{
 "cells": [
  {
   "cell_type": "markdown",
   "metadata": {},
   "source": [
    "# FaultTreeAnalysis & MentoCarlo"
   ]
  },
  {
   "cell_type": "markdown",
   "metadata": {},
   "source": [
    "## 加载python库"
   ]
  },
  {
   "cell_type": "markdown",
   "metadata": {},
   "source": [
    "  加载相应的第三方库，\n",
    "  包括  \n",
    "  \n",
    "  - numpy 数组库、  \n",
    "  - scipy 科学计算库、  \n",
    "  - matplotlib 绘图库、  \n",
    "  \n",
    "另外 蒙特卡罗法要大量使用随机数 所以专门加载 numpy中的random 库  "
   ]
  },
  {
   "cell_type": "code",
   "execution_count": 26,
   "metadata": {
    "collapsed": false
   },
   "outputs": [],
   "source": [
    "import numpy as np \n",
    "import scipy as sp\n",
    "#import pandas as pd #目前用不上\n",
    "import matplotlib.pyplot as plt\n",
    "import numpy.random as random"
   ]
  },
  {
   "cell_type": "markdown",
   "metadata": {},
   "source": [
    "## 设定仿真次数，设备的总运行时间以及最小单位里程"
   ]
  },
  {
   "cell_type": "code",
   "execution_count": 27,
   "metadata": {
    "collapsed": false
   },
   "outputs": [],
   "source": [
    "TimeMax = 1000000\n",
    "IntervalTimes = 10000\n",
    "del_t = TimeMax / IntervalTimes\n",
    "t = [i* del_t for i in range(1,IntervalTimes,1)]"
   ]
  },
  {
   "cell_type": "code",
   "execution_count": 28,
   "metadata": {
    "collapsed": false
   },
   "outputs": [],
   "source": [
    "#选一万次仿真\n",
    "Ns = 10000"
   ]
  },
  {
   "cell_type": "markdown",
   "metadata": {},
   "source": [
    "## 随机抽样产生各个部分的失效时间"
   ]
  },
  {
   "cell_type": "code",
   "execution_count": 30,
   "metadata": {
    "collapsed": false
   },
   "outputs": [
    {
     "name": "stdout",
     "output_type": "stream",
     "text": [
      "[[[ 0.34321572]\n",
      "  [ 0.25653058]\n",
      "  [ 0.35530869]\n",
      "  ..., \n",
      "  [ 0.00378582]\n",
      "  [ 0.55281476]\n",
      "  [ 0.41077411]]\n",
      "\n",
      " [[ 0.05201813]\n",
      "  [ 0.43961613]\n",
      "  [ 0.27254712]\n",
      "  ..., \n",
      "  [ 0.15830603]\n",
      "  [ 0.02123972]\n",
      "  [ 0.61243013]]\n",
      "\n",
      " [[ 0.9682247 ]\n",
      "  [ 0.3924102 ]\n",
      "  [ 0.44141025]\n",
      "  ..., \n",
      "  [ 0.86284897]\n",
      "  [ 0.47263472]\n",
      "  [ 0.35006051]]\n",
      "\n",
      " ..., \n",
      " [[ 0.38078228]\n",
      "  [ 0.17639269]\n",
      "  [ 0.03925149]\n",
      "  ..., \n",
      "  [ 0.84305651]\n",
      "  [ 0.39103456]\n",
      "  [ 0.01152557]]\n",
      "\n",
      " [[ 0.95187229]\n",
      "  [ 0.67182268]\n",
      "  [ 0.07494548]\n",
      "  ..., \n",
      "  [ 0.38081954]\n",
      "  [ 0.79434092]\n",
      "  [ 0.53616714]]\n",
      "\n",
      " [[ 0.62584385]\n",
      "  [ 0.9664775 ]\n",
      "  [ 0.16209814]\n",
      "  ..., \n",
      "  [ 0.44517616]\n",
      "  [ 0.27563008]\n",
      "  [ 0.86591963]]]\n"
     ]
    }
   ],
   "source": [
    "T1 = random.random((Ns,1))\n",
    "T2 = random.random((Ns,1))\n",
    "T3 = random.random((Ns,1))\n",
    "T4 = random.random((Ns,1))\n",
    "T5 = random.random((Ns,1))\n",
    "T6 = random.random((Ns,1))\n",
    "T7 = random.random((Ns,1))\n",
    "T8 = random.random((Ns,1))\n",
    "T9 = random.random((Ns,1))\n",
    "T10 = random.random((Ns,1))\n",
    "T11 = random.random((Ns,1))\n",
    "T = np.array([T1,T2,T3,T4,T5,T6,T7,T8,T9,T10,T11])\n",
    "print T"
   ]
  },
  {
   "cell_type": "code",
   "execution_count": 19,
   "metadata": {
    "collapsed": false
   },
   "outputs": [],
   "source": [
    "NUM = np.zeros((Ns,11))\n",
    "tk = np.zeros((1,Ns))"
   ]
  },
  {
   "cell_type": "code",
   "execution_count": 20,
   "metadata": {
    "collapsed": false
   },
   "outputs": [],
   "source": [
    "for L in range(Ns):\n",
    "    tt = T[:,L]\n",
    "    ttf = np.sort(T[:,L].T).T\n",
    "    Z = np.zeros((1,11))\n",
    "    for i in range(0,10):\n",
    "        for j in range(0,10):\n",
    "            if ttf[j] == tt[i]:\n",
    "                Z[:,i] = 1\n",
    "                tk[0, L] = ttf[j]\n",
    "                break\n",
    "        PHA = Z[:,1]+Z[:,2]+Z[:,3]+Z[:,4]+Z[:,5]+Z[:,6]+Z[:,7]+Z[:,8]+Z[:,9]+Z[:,10]+Z[:,0]\n",
    "        if PHA == 1:\n",
    "            NUM[L,i] = NUM[L, i] + 1\n",
    "            break"
   ]
  },
  {
   "cell_type": "code",
   "execution_count": 24,
   "metadata": {
    "collapsed": false
   },
   "outputs": [
    {
     "name": "stdout",
     "output_type": "stream",
     "text": [
      "[[ 10000.      0.      0. ...,      0.      0.      0.]]\n"
     ]
    }
   ],
   "source": [
    "delete = 0\n",
    "for i in range(Ns):\n",
    "    if tk [0,i] > TimeMax:\n",
    "        delete = delete + 1\n",
    "deta_m = np.zeros((1, IntervalTimes))\n",
    "for n in range(Ns):\n",
    "    if tk[0,n] <= t[1]:\n",
    "        deta_m[0,0] = deta_m[0,0]+1\n",
    "    for r in range(2,Ns):\n",
    "        if tk[0,n] > t[r-1] and tk[0,n] <= t(r):\n",
    "            deta_m[0,r] = deta[0,r]+1"
   ]
  },
  {
   "cell_type": "code",
   "execution_count": 31,
   "metadata": {
    "collapsed": false,
    "scrolled": false
   },
   "outputs": [
    {
     "ename": "AttributeError",
     "evalue": "'module' object has no attribute 'tolist'",
     "output_type": "error",
     "traceback": [
      "\u001b[1;31m---------------------------------------------------------------------------\u001b[0m",
      "\u001b[1;31mAttributeError\u001b[0m                            Traceback (most recent call last)",
      "\u001b[1;32m<ipython-input-31-6123ebe53220>\u001b[0m in \u001b[0;36m<module>\u001b[1;34m()\u001b[0m\n\u001b[0;32m      1\u001b[0m \u001b[0mm\u001b[0m \u001b[1;33m=\u001b[0m \u001b[1;33m[\u001b[0m\u001b[1;33m]\u001b[0m\u001b[1;33m\u001b[0m\u001b[0m\n\u001b[1;32m----> 2\u001b[1;33m \u001b[0mdeta_l\u001b[0m \u001b[1;33m=\u001b[0m \u001b[0mnp\u001b[0m\u001b[1;33m.\u001b[0m\u001b[0mtolist\u001b[0m\u001b[1;33m(\u001b[0m \u001b[0mdeta_m\u001b[0m \u001b[1;33m[\u001b[0m\u001b[1;36m0\u001b[0m\u001b[1;33m]\u001b[0m\u001b[1;33m)\u001b[0m\u001b[1;33m\u001b[0m\u001b[0m\n\u001b[0m\u001b[0;32m      3\u001b[0m \u001b[1;32mprint\u001b[0m \u001b[0mdeta_l\u001b[0m\u001b[1;33m\u001b[0m\u001b[0m\n\u001b[0;32m      4\u001b[0m \u001b[1;31m#for i in range(1,IntervalTimes):\u001b[0m\u001b[1;33m\u001b[0m\u001b[1;33m\u001b[0m\u001b[0m\n\u001b[0;32m      5\u001b[0m \u001b[1;31m#    m[i] = np.sum(deta_m[0,i])\u001b[0m\u001b[1;33m\u001b[0m\u001b[1;33m\u001b[0m\u001b[0m\n",
      "\u001b[1;31mAttributeError\u001b[0m: 'module' object has no attribute 'tolist'"
     ]
    }
   ],
   "source": [
    "m = []\n",
    "deta_l = np.tolist( deta_m [0])\n",
    "print deta_l\n",
    "#for i in range(1,IntervalTimes):\n",
    "#    m[i] = np.sum(deta_m[0,i])\n",
    "#m = np.array(m)\n",
    "#F = m/Ns\n",
    "#R = 1-F\n",
    "#print m"
   ]
  },
  {
   "cell_type": "markdown",
   "metadata": {
    "collapsed": true
   },
   "source": [
    "# 好惨。。。只编到这里，实在是编不下去了。"
   ]
  }
 ],
 "metadata": {
  "kernelspec": {
   "display_name": "Python 2",
   "language": "python",
   "name": "python2"
  },
  "language_info": {
   "codemirror_mode": {
    "name": "ipython",
    "version": 2
   },
   "file_extension": ".py",
   "mimetype": "text/x-python",
   "name": "python",
   "nbconvert_exporter": "python",
   "pygments_lexer": "ipython2",
   "version": "2.7.11"
  }
 },
 "nbformat": 4,
 "nbformat_minor": 0
}
